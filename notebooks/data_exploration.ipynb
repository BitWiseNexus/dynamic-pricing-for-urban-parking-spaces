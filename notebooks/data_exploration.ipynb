{
 "cells": [
  {
   "cell_type": "code",
   "execution_count": 1,
   "id": "6253ddf6",
   "metadata": {},
   "outputs": [],
   "source": [
    "import pandas as pd\n",
    "import numpy as np\n",
    "import matplotlib.pyplot as plt"
   ]
  },
  {
   "cell_type": "code",
   "execution_count": 2,
   "id": "7d834cc5",
   "metadata": {},
   "outputs": [],
   "source": [
    "df = pd.read_csv(\"../data/dataset.csv\")"
   ]
  },
  {
   "cell_type": "code",
   "execution_count": 3,
   "id": "5ec6666f",
   "metadata": {},
   "outputs": [
    {
     "name": "stdout",
     "output_type": "stream",
     "text": [
      "Shape: (18368, 12)\n",
      "   ID SystemCodeNumber  Capacity   Latitude  Longitude  Occupancy VehicleType  \\\n",
      "0   0      BHMBCCMKT01       577  26.144536  91.736172         61         car   \n",
      "1   1      BHMBCCMKT01       577  26.144536  91.736172         64         car   \n",
      "2   2      BHMBCCMKT01       577  26.144536  91.736172         80         car   \n",
      "3   3      BHMBCCMKT01       577  26.144536  91.736172        107         car   \n",
      "4   4      BHMBCCMKT01       577  26.144536  91.736172        150        bike   \n",
      "\n",
      "  TrafficConditionNearby  QueueLength  IsSpecialDay LastUpdatedDate  \\\n",
      "0                    low            1             0      04-10-2016   \n",
      "1                    low            1             0      04-10-2016   \n",
      "2                    low            2             0      04-10-2016   \n",
      "3                    low            2             0      04-10-2016   \n",
      "4                    low            2             0      04-10-2016   \n",
      "\n",
      "  LastUpdatedTime  \n",
      "0        07:59:00  \n",
      "1        08:25:00  \n",
      "2        08:59:00  \n",
      "3        09:32:00  \n",
      "4        09:59:00  \n",
      "<class 'pandas.core.frame.DataFrame'>\n",
      "RangeIndex: 18368 entries, 0 to 18367\n",
      "Data columns (total 12 columns):\n",
      " #   Column                  Non-Null Count  Dtype  \n",
      "---  ------                  --------------  -----  \n",
      " 0   ID                      18368 non-null  int64  \n",
      " 1   SystemCodeNumber        18368 non-null  object \n",
      " 2   Capacity                18368 non-null  int64  \n",
      " 3   Latitude                18368 non-null  float64\n",
      " 4   Longitude               18368 non-null  float64\n",
      " 5   Occupancy               18368 non-null  int64  \n",
      " 6   VehicleType             18368 non-null  object \n",
      " 7   TrafficConditionNearby  18368 non-null  object \n",
      " 8   QueueLength             18368 non-null  int64  \n",
      " 9   IsSpecialDay            18368 non-null  int64  \n",
      " 10  LastUpdatedDate         18368 non-null  object \n",
      " 11  LastUpdatedTime         18368 non-null  object \n",
      "dtypes: float64(2), int64(5), object(5)\n",
      "memory usage: 1.7+ MB\n",
      "None\n",
      "                 ID      Capacity      Latitude     Longitude     Occupancy  \\\n",
      "count  18368.000000  18368.000000  18368.000000  18368.000000  18368.000000   \n",
      "mean    9183.500000   1605.214286     25.706547     90.751170    731.084059   \n",
      "std     5302.529208   1131.153886      1.582749      3.536636    621.164982   \n",
      "min        0.000000    387.000000     20.000035     78.000003      2.000000   \n",
      "25%     4591.750000    577.000000     26.140048     91.727995    322.000000   \n",
      "50%     9183.500000   1261.000000     26.147482     91.729511    568.000000   \n",
      "75%    13775.250000   2803.000000     26.147541     91.736172    976.000000   \n",
      "max    18367.000000   3883.000000     26.150504     91.740994   3499.000000   \n",
      "\n",
      "        QueueLength  IsSpecialDay  \n",
      "count  18368.000000  18368.000000  \n",
      "mean       4.587925      0.150915  \n",
      "std        2.580062      0.357975  \n",
      "min        0.000000      0.000000  \n",
      "25%        2.000000      0.000000  \n",
      "50%        4.000000      0.000000  \n",
      "75%        6.000000      0.000000  \n",
      "max       15.000000      1.000000  \n"
     ]
    }
   ],
   "source": [
    "print(\"Shape:\", df.shape)\n",
    "print(df.head())\n",
    "print(df.info())\n",
    "print(df.describe())"
   ]
  },
  {
   "cell_type": "code",
   "execution_count": null,
   "id": "20edd7a7",
   "metadata": {},
   "outputs": [],
   "source": [
    "print(\"Missing values:\\n\", df.isnull().sum())"
   ]
  },
  {
   "cell_type": "code",
   "execution_count": null,
   "id": "af563268",
   "metadata": {},
   "outputs": [],
   "source": [
    "plt.figure(figsize=(12, 6))\n",
    "df['Occupancy'].hist(bins=30)\n",
    "plt.title(\"Occupancy Distribution\")\n",
    "plt.xlabel(\"Occupancy\")\n",
    "plt.ylabel(\"Frequency\")\n",
    "plt.show()"
   ]
  },
  {
   "cell_type": "code",
   "execution_count": null,
   "id": "f93f203f",
   "metadata": {},
   "outputs": [],
   "source": [
    "# Queue length distribution\n",
    "plt.figure(figsize=(12, 6))\n",
    "df['QueueLength'].hist(bins=20, color='orange')\n",
    "plt.title(\"Queue Length Distribution\")\n",
    "plt.xlabel(\"Queue Length\")\n",
    "plt.ylabel(\"Frequency\")\n",
    "plt.show()"
   ]
  },
  {
   "cell_type": "code",
   "execution_count": null,
   "id": "0d6ff360",
   "metadata": {},
   "outputs": [],
   "source": [
    "# Traffic levels\n",
    "df['TrafficLevel'].value_counts().plot(kind='bar', figsize=(8, 4))\n",
    "plt.title(\"Traffic Level Distribution\")\n",
    "plt.show()"
   ]
  }
 ],
 "metadata": {
  "kernelspec": {
   "display_name": "base",
   "language": "python",
   "name": "python3"
  },
  "language_info": {
   "codemirror_mode": {
    "name": "ipython",
    "version": 3
   },
   "file_extension": ".py",
   "mimetype": "text/x-python",
   "name": "python",
   "nbconvert_exporter": "python",
   "pygments_lexer": "ipython3",
   "version": "3.12.7"
  }
 },
 "nbformat": 4,
 "nbformat_minor": 5
}
